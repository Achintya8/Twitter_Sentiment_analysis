{
  "nbformat": 4,
  "nbformat_minor": 0,
  "metadata": {
    "colab": {
      "provenance": []
    },
    "kernelspec": {
      "name": "python3",
      "display_name": "Python 3"
    },
    "language_info": {
      "name": "python"
    }
  },
  "cells": [
    {
      "cell_type": "code",
      "execution_count": 1,
      "metadata": {
        "colab": {
          "base_uri": "https://localhost:8080/"
        },
        "id": "iwYkO9LCH4dF",
        "outputId": "74f9468f-51c3-4a87-a303-cf67cd175803"
      },
      "outputs": [
        {
          "output_type": "stream",
          "name": "stderr",
          "text": [
            "[nltk_data] Downloading package vader_lexicon to /root/nltk_data...\n"
          ]
        },
        {
          "output_type": "execute_result",
          "data": {
            "text/plain": [
              "True"
            ]
          },
          "metadata": {},
          "execution_count": 1
        }
      ],
      "source": [
        "import nltk\n",
        "nltk.download('vader_lexicon')"
      ]
    },
    {
      "cell_type": "code",
      "source": [
        "import pandas as pd\n",
        "from nltk.sentiment import SentimentIntensityAnalyzer\n",
        "import matplotlib.pyplot as plt\n",
        "\n",
        "# Load the Twitter data from CSV\n",
        "df = pd.read_csv('pal.csv')\n",
        "\n",
        "# Display the first few rows of the dataframe to understand the structure of the data\n",
        "print(df.head())\n",
        "\n",
        "# Initialize the VADER sentiment analyzer\n",
        "sia = SentimentIntensityAnalyzer()\n",
        "\n",
        "# Apply sentiment analysis to each tweet\n",
        "df['compound'] = df['Text'].apply(lambda tweet: sia.polarity_scores(tweet)['compound'])\n",
        "\n",
        "# Categorize the sentiment into positive, neutral, or negative\n",
        "df['sentiment'] = df['compound'].apply(lambda score: 'positive' if score > 0 else ('neutral' if score == 0 else 'negative'))\n",
        "\n",
        "# Plot the distribution of sentiments\n",
        "sentiment_distribution = df['sentiment'].value_counts()\n",
        "sentiment_distribution.plot(kind='bar', color=['green', 'gray', 'red'])\n",
        "plt.title('Sentiment Distribution')\n",
        "plt.xlabel('Sentiment')\n",
        "plt.ylabel('Count')\n",
        "plt.show()\n"
      ],
      "metadata": {
        "colab": {
          "base_uri": "https://localhost:8080/",
          "height": 623
        },
        "id": "cfVhFTZfH7H8",
        "outputId": "2247ad5a-7b5a-4302-a4aa-0987f6697f37"
      },
      "execution_count": 3,
      "outputs": [
        {
          "output_type": "stream",
          "name": "stdout",
          "text": [
            "                      Text\n",
            "0     ENDRY FREE/PALESTINE\n",
            "1                  lina ⁴⁴\n",
            "2     Egypt Today Magazine\n",
            "3              Saraaahbada\n",
            "4  Jemima | Free Palestine\n"
          ]
        },
        {
          "output_type": "display_data",
          "data": {
            "text/plain": [
              "<Figure size 640x480 with 1 Axes>"
            ],
            "image/png": "[encoded data removed]"
          },
          "metadata": {}
        }
      ]
    },
    {
      "cell_type": "code",
      "source": [
        "df.shape"
      ],
      "metadata": {
        "colab": {
          "base_uri": "https://localhost:8080/"
        },
        "id": "HN9xOya4IPPD",
        "outputId": "4b35904d-4b39-48b0-9aa7-5f1ccba2cbae"
      },
      "execution_count": 4,
      "outputs": [
        {
          "output_type": "execute_result",
          "data": {
            "text/plain": [
              "(508, 3)"
            ]
          },
          "metadata": {},
          "execution_count": 4
        }
      ]
    },
    {
      "cell_type": "code",
      "source": [
        "positive_tweets = df[df['sentiment'] == 'positive']"
      ],
      "metadata": {
        "id": "Lx9cVgtOIgPP"
      },
      "execution_count": 13,
      "outputs": []
    },
    {
      "cell_type": "code",
      "source": [
        "for index, tweet in positive_tweets.head(25)['Text'].items():\n",
        "    print(f\"Positive Tweet {index + 1}: {tweet}\")"
      ],
      "metadata": {
        "colab": {
          "base_uri": "https://localhost:8080/"
        },
        "id": "L0YB5PbQIy3r",
        "outputId": "5c82eedb-d155-482e-ce39-d9994b7be175"
      },
      "execution_count": 14,
      "outputs": [
        {
          "output_type": "stream",
          "name": "stdout",
          "text": [
            "Positive Tweet 5: Jemima | Free Palestine\n",
            "Positive Tweet 8: 19 FREE PALESTINE 48\n",
            "Positive Tweet 9: JUSTICE FOR PALESTINE\n",
            "Positive Tweet 11: s | free palestine\n",
            "Positive Tweet 17: Save Palestine\n",
            "Positive Tweet 20: Free Palestine\n",
            "Positive Tweet 21: PlateMan | FREE PALESTINE\n",
            "Positive Tweet 28: puu|| FREE PALESTINE\n",
            "Positive Tweet 30: FACE BY JIMIN Free Palestine\n",
            "Positive Tweet 32: ➼ Raychelle || || FREE PALESTINE\n",
            "Positive Tweet 42: FREE PALESTINE\n",
            "Positive Tweet 56: JUSTICE FOR PALESTINE\n",
            "Positive Tweet 59: Den | FREE PALESTINE\n",
            "Positive Tweet 60: sofi | FREE PALESTINE\n",
            "Positive Tweet 64: ✰𝓣𝓐𝓔✰ | FREE PALESTINE\n",
            "Positive Tweet 68: FREE PALESTINE | totally not a dumb robot\n",
            "Positive Tweet 69: Faith !!\n",
            "Positive Tweet 77: it's not free Palestine, it's now save Palestine\n",
            "Positive Tweet 80: NO Justice or Human Rights in Scotland\n",
            "Positive Tweet 83: Free Palestine\n",
            "Positive Tweet 86: fio | Gojo Is Back FREE PALESTINE\n",
            "Positive Tweet 90: Solidarity with Palestine #StopCopCity\n",
            "Positive Tweet 96: fée lios FREE PALESTINE\n",
            "Positive Tweet 103: FREE PALESTINE\n",
            "Positive Tweet 115: wylan loves lils ~ free palestine\n"
          ]
        }
      ]
    },
    {
      "cell_type": "code",
      "source": [
        "negative_tweets = df[df['sentiment'] == 'negative']"
      ],
      "metadata": {
        "id": "hYIbUexTI3VJ"
      },
      "execution_count": 15,
      "outputs": []
    },
    {
      "cell_type": "code",
      "source": [
        "for index, tweet in negative_tweets.head(25)['Text'].items():\n",
        "    print(f\"Positive Tweet {index + 1}: {tweet}\")"
      ],
      "metadata": {
        "colab": {
          "base_uri": "https://localhost:8080/"
        },
        "id": "X-jIjqr4JyFy",
        "outputId": "811b479f-5b03-41a0-8bbe-d15026a4faa3"
      },
      "execution_count": 16,
      "outputs": [
        {
          "output_type": "stream",
          "name": "stdout",
          "text": [
            "Positive Tweet 66: She is a mess.\n",
            "Positive Tweet 76: FREE PALESTINE FUCK ISRAEL | sung markinnie\n",
            "Positive Tweet 93: FREE PALESTINE FUCK ISRAEL | sung markinnie\n",
            "Positive Tweet 136: The Rebel Wolf #Israël #Ukraine\n",
            "Positive Tweet 164: Bofa Deez Nuts\n",
            "Positive Tweet 185: miserable M's quarter life crisis\n",
            "Positive Tweet 223: FREE PALESTINE FUCK ISRAEL | sung markinnie\n",
            "Positive Tweet 310: Millennials Are Killing Capitalism\n"
          ]
        }
      ]
    },
    {
      "cell_type": "code",
      "source": [
        "df['sentiment'].value_counts()"
      ],
      "metadata": {
        "colab": {
          "base_uri": "https://localhost:8080/"
        },
        "id": "Gh2IiL4YJ3Ac",
        "outputId": "035a0eb6-61bb-4702-92ae-4eb07da9a09e"
      },
      "execution_count": 17,
      "outputs": [
        {
          "output_type": "execute_result",
          "data": {
            "text/plain": [
              "neutral     375\n",
              "positive    125\n",
              "negative      8\n",
              "Name: sentiment, dtype: int64"
            ]
          },
          "metadata": {},
          "execution_count": 17
        }
      ]
    },
    {
      "cell_type": "code",
      "source": [],
      "metadata": {
        "id": "lZjs4yh5KkJr"
      },
      "execution_count": null,
      "outputs": []
    }
  ]
}